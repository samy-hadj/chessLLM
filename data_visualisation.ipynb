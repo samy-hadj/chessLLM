{
 "cells": [
  {
   "cell_type": "code",
   "execution_count": null,
   "metadata": {},
   "outputs": [],
   "source": [
    "import re\n",
    "import matplotlib.pyplot as plt\n",
    "from collections import Counter\n",
    "\n",
    "# Charger le fichier PGN\n",
    "file_path = 'chess_files/lichess_db_standard_rated_2014-09.pgn'  # Remplacez par le chemin de votre fichier\n",
    "\n",
    "# Fonction pour extraire les Elos\n",
    "def extract_elos(pgn_path):\n",
    "    with open(pgn_path, 'r', encoding='utf-8') as file:\n",
    "        content = file.read()\n",
    "    \n",
    "    # Utiliser des regex pour extraire les Elos des joueurs\n",
    "    white_elo = re.findall(r'\\[WhiteElo \"(\\d+)\"\\]', content)\n",
    "    black_elo = re.findall(r'\\[BlackElo \"(\\d+)\"\\]', content)\n",
    "\n",
    "    return list(map(int, white_elo)), list(map(int, black_elo))\n",
    "\n",
    "# Extraire les données\n",
    "white_elos, black_elos = extract_elos(file_path)\n",
    "\n",
    "# Combiner les Elos dans une seule liste pour analyse\n",
    "all_elos = white_elos + black_elos\n",
    "\n",
    "# Visualisation\n",
    "plt.figure(figsize=(10, 6))\n",
    "plt.hist(all_elos, bins=20, edgecolor='black', alpha=0.7)\n",
    "plt.title('Distribution des Elos des joueurs')\n",
    "plt.xlabel('Elo')\n",
    "plt.ylabel('Fréquence')\n",
    "plt.grid(axis='y', linestyle='--', alpha=0.7)\n",
    "plt.show()\n",
    "\n",
    "# Afficher quelques statistiques\n",
    "mean_elo = sum(all_elos) / len(all_elos)\n",
    "elos_count = Counter(all_elos)\n",
    "print(f\"Nombre total de joueurs analysés : {len(all_elos)}\")\n",
    "print(f\"Elo moyen : {mean_elo:.2f}\")\n"
   ]
  }
 ],
 "metadata": {
  "kernelspec": {
   "display_name": ".venv",
   "language": "python",
   "name": "python3"
  },
  "language_info": {
   "name": "python",
   "version": "3.10.15"
  }
 },
 "nbformat": 4,
 "nbformat_minor": 2
}
